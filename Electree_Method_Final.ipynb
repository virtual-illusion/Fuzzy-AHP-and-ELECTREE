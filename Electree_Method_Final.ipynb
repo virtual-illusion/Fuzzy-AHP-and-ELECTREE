{
 "cells": [
  {
   "cell_type": "code",
   "execution_count": 1,
   "id": "997abe79",
   "metadata": {},
   "outputs": [],
   "source": [
    "import numpy as np"
   ]
  },
  {
   "cell_type": "code",
   "execution_count": 2,
   "id": "febbec31",
   "metadata": {},
   "outputs": [
    {
     "name": "stdout",
     "output_type": "stream",
     "text": [
      "[[1.050e+02 2.025e+00 2.500e+00 2.400e+00 3.600e-01 8.000e+01 1.000e+02\n",
      "  3.000e+01 6.000e+00 1.240e+00 8.000e+00 3.800e+00]\n",
      " [8.000e+01 2.025e+00 4.800e+00 3.500e+00 3.000e-01 4.000e+01 1.100e+02\n",
      "  4.000e+01 8.000e+00 2.000e+00 6.000e+00 2.020e+00]\n",
      " [1.300e+02 2.022e+00 5.030e+00 2.250e+00 3.400e-01 5.000e+01 1.220e+02\n",
      "  3.500e+01 6.000e+00 1.270e+00 4.000e+00 7.600e+00]\n",
      " [2.000e+02 2.020e+00 2.150e+00 2.140e+00 3.500e-01 4.500e+01 9.800e+01\n",
      "  4.500e+01 6.000e+00 1.120e+00 5.000e+00 4.100e+00]\n",
      " [1.250e+02 2.025e+00 6.000e+00 1.500e+00 3.900e-01 8.000e+01 9.500e+01\n",
      "  4.380e+01 6.000e+00 1.290e+00 3.000e+00 9.100e+00]\n",
      " [2.500e+02 2.025e+00 2.410e+00 1.500e-02 3.800e-01 4.000e+01 6.500e+01\n",
      "  2.680e+01 4.000e+00 1.190e+00 4.000e+00 3.910e+00]]\n"
     ]
    }
   ],
   "source": [
    "matrix=np.array([[105,2.025,2.5,2.4,0.36,80,100,30,6,1.24,8,3.8],[80,2.025,4.8,3.5,0.3,40,110,40,8,2,6,2.02],[130,2.022,5.03,2.25,0.34,50,122,35,6,1.27,4,7.6],[200,2.02,2.15,2.14,0.35,45,98,45,6,1.12,5,4.1],[125,2.025,6,1.5,0.39,80,95,43.8,6,1.29,3,9.1],[250,2.025,2.41,0.015,0.38,40,65,26.8,4,1.19,4,3.91]])\n",
    "print(matrix)"
   ]
  },
  {
   "cell_type": "code",
   "execution_count": 3,
   "id": "cc755514",
   "metadata": {},
   "outputs": [
    {
     "name": "stdout",
     "output_type": "stream",
     "text": [
      "[[1.102500e+04 4.100625e+00 6.250000e+00 5.760000e+00 1.296000e-01\n",
      "  6.400000e+03 1.000000e+04 9.000000e+02 3.600000e+01 1.537600e+00\n",
      "  6.400000e+01 1.444000e+01]\n",
      " [6.400000e+03 4.100625e+00 2.304000e+01 1.225000e+01 9.000000e-02\n",
      "  1.600000e+03 1.210000e+04 1.600000e+03 6.400000e+01 4.000000e+00\n",
      "  3.600000e+01 4.080400e+00]\n",
      " [1.690000e+04 4.088484e+00 2.530090e+01 5.062500e+00 1.156000e-01\n",
      "  2.500000e+03 1.488400e+04 1.225000e+03 3.600000e+01 1.612900e+00\n",
      "  1.600000e+01 5.776000e+01]\n",
      " [4.000000e+04 4.080400e+00 4.622500e+00 4.579600e+00 1.225000e-01\n",
      "  2.025000e+03 9.604000e+03 2.025000e+03 3.600000e+01 1.254400e+00\n",
      "  2.500000e+01 1.681000e+01]\n",
      " [1.562500e+04 4.100625e+00 3.600000e+01 2.250000e+00 1.521000e-01\n",
      "  6.400000e+03 9.025000e+03 1.918440e+03 3.600000e+01 1.664100e+00\n",
      "  9.000000e+00 8.281000e+01]\n",
      " [6.250000e+04 4.100625e+00 5.808100e+00 2.250000e-04 1.444000e-01\n",
      "  1.600000e+03 4.225000e+03 7.182400e+02 1.600000e+01 1.416100e+00\n",
      "  1.600000e+01 1.528810e+01]]\n"
     ]
    }
   ],
   "source": [
    "matrix_squared=matrix**2\n",
    "print(matrix_squared)"
   ]
  },
  {
   "cell_type": "code",
   "execution_count": 4,
   "id": "fd528077",
   "metadata": {},
   "outputs": [
    {
     "name": "stdout",
     "output_type": "stream",
     "text": [
      "[390.44846011   4.9569531   10.05094523   5.46830184   0.86844689\n",
      " 143.26548782 244.61806965  91.57881851  14.96662955   3.38896739\n",
      "  12.88409873  13.82709297]\n"
     ]
    }
   ],
   "source": [
    "matrix_squared_sum=np.sqrt(np.sum(matrix_squared,axis=0))\n",
    "print(matrix_squared_sum)"
   ]
  },
  {
   "cell_type": "code",
   "execution_count": 5,
   "id": "06828cae",
   "metadata": {},
   "outputs": [
    {
     "name": "stdout",
     "output_type": "stream",
     "text": [
      "[[0.26892154 0.40851708 0.24873282 0.43889311 0.41453312 0.55840385\n",
      "  0.40880054 0.32758667 0.40089186 0.36589316 0.62092042 0.27482277]\n",
      " [0.2048926  0.40851708 0.47756702 0.64005245 0.34544427 0.27920193\n",
      "  0.4496806  0.43678222 0.53452248 0.59015026 0.46569032 0.14609   ]\n",
      " [0.33295047 0.40791187 0.50045044 0.41146229 0.3915035  0.34900241\n",
      "  0.49873666 0.38218445 0.40089186 0.37474542 0.31046021 0.54964554]\n",
      " [0.5122315  0.40750839 0.21391023 0.39134636 0.40301831 0.31410217\n",
      "  0.40062453 0.49138    0.40089186 0.33048415 0.38807526 0.29651931]\n",
      " [0.32014469 0.40851708 0.59695878 0.27430819 0.44907755 0.55840385\n",
      "  0.38836052 0.47827654 0.40089186 0.38064692 0.23284516 0.65812821]\n",
      " [0.64028937 0.40851708 0.23977844 0.00274308 0.43756274 0.27920193\n",
      "  0.26572035 0.29264409 0.26726124 0.35113941 0.31046021 0.28277817]]\n"
     ]
    }
   ],
   "source": [
    "Normalized_decision_Matrix=matrix / matrix_squared_sum\n",
    "print(Normalized_decision_Matrix)"
   ]
  },
  {
   "cell_type": "code",
   "execution_count": 6,
   "id": "e3ea40a9",
   "metadata": {},
   "outputs": [],
   "source": [
    "criteria_weights= np.array([0.076,0.043,0.113,0.075,0.025,0.205,0.064,0.072,0.208,0.056,0.035,0.035])"
   ]
  },
  {
   "cell_type": "code",
   "execution_count": 7,
   "id": "1797bd14",
   "metadata": {},
   "outputs": [
    {
     "name": "stdout",
     "output_type": "stream",
     "text": [
      "[[0.02043804 0.01756623 0.02810681 0.03291698 0.01036333 0.11447279\n",
      "  0.02616323 0.02358624 0.08338551 0.02049002 0.02173221 0.0096188 ]\n",
      " [0.01557184 0.01756623 0.05396507 0.04800393 0.00863611 0.05723639\n",
      "  0.02877956 0.03144832 0.11118068 0.03304841 0.01629916 0.00511315]\n",
      " [0.02530424 0.01754021 0.0565509  0.03085967 0.00978759 0.07154549\n",
      "  0.03191915 0.02751728 0.08338551 0.02098574 0.01086611 0.01923759]\n",
      " [0.03892959 0.01752286 0.02417186 0.02935098 0.01007546 0.06439094\n",
      "  0.02563997 0.03537936 0.08338551 0.01850711 0.01358263 0.01037818]\n",
      " [0.024331   0.01756623 0.06745634 0.02057311 0.01122694 0.11447279\n",
      "  0.02485507 0.03443591 0.08338551 0.02131623 0.00814958 0.02303449]\n",
      " [0.04866199 0.01756623 0.02709496 0.00020573 0.01093907 0.05723639\n",
      "  0.0170061  0.02107037 0.05559034 0.01966381 0.01086611 0.00989724]]\n"
     ]
    }
   ],
   "source": [
    "weighted_normalized_matrix = criteria_weights*Normalized_decision_Matrix\n",
    "print(weighted_normalized_matrix)"
   ]
  },
  {
   "cell_type": "code",
   "execution_count": 8,
   "id": "a8692fac",
   "metadata": {},
   "outputs": [],
   "source": [
    "a,b,c,d,e,f=weighted_normalized_matrix[:1],weighted_normalized_matrix[1:2],weighted_normalized_matrix[2:3],weighted_normalized_matrix[3:4],weighted_normalized_matrix[4:5],weighted_normalized_matrix[5:6]\n",
    "\n"
   ]
  },
  {
   "cell_type": "code",
   "execution_count": 9,
   "id": "6e452307",
   "metadata": {
    "scrolled": true
   },
   "outputs": [
    {
     "name": "stdout",
     "output_type": "stream",
     "text": [
      "[0 0 1 1 0 0 1 1 1 1 0 0]\n"
     ]
    }
   ],
   "source": [
    "for i,j in zip(a,b):\n",
    "    c12=(i>j)\n",
    "for i,j in zip(a,c):\n",
    "    c13=(i>j)\n",
    "for i,j in zip(a,d):\n",
    "    c14=(i>j)\n",
    "for i,j in zip(a,e):\n",
    "    c15=(i>j)\n",
    "for i,j in zip(a,f):\n",
    "    c16=(i>j)\n",
    "    \n",
    "for i,j in zip(b,a):\n",
    "    c21=(i>j)\n",
    "for i,j in zip(b,c):\n",
    "    c23=(i>j)\n",
    "for i,j in zip(b,d):\n",
    "    c24=(i>j)\n",
    "for i,j in zip(b,e):\n",
    "    c25=(i>j)\n",
    "for i,j in zip(b,f):\n",
    "    c26=(i>j)\n",
    "    \n",
    "for i,j in zip(c,a):\n",
    "    c31=(i>j)\n",
    "for i,j in zip(c,b):\n",
    "    c32=(i>j)\n",
    "for i,j in zip(c,d):\n",
    "    c34=(i>j)\n",
    "for i,j in zip(c,e):\n",
    "    c35=(i>j)\n",
    "for i,j in zip(c,f):\n",
    "    c36=(i>j)\n",
    "    \n",
    "for i,j in zip(d,a):\n",
    "    c41=(i>j)\n",
    "for i,j in zip(d,b):\n",
    "    c42=(i>j)\n",
    "for i,j in zip(d,c):\n",
    "    c43=(i>j)\n",
    "for i,j in zip(d,e):\n",
    "    c45=(i>j)\n",
    "for i,j in zip(d,f):\n",
    "    c46=(i>j)\n",
    "    \n",
    "for i,j in zip(e,a):\n",
    "    c51=(i>j)\n",
    "for i,j in zip(e,b):\n",
    "    c52=(i>j)\n",
    "for i,j in zip(e,c):\n",
    "    c53=(i>j)\n",
    "for i,j in zip(e,d):\n",
    "    c54=(i>j)\n",
    "for i,j in zip(e,f):\n",
    "    c56=(i>j)\n",
    "\n",
    "for i,j in zip(f,a):\n",
    "    c61=(i>j)\n",
    "for i,j in zip(f,b):\n",
    "    c62=(i>j)\n",
    "for i,j in zip(f,c):\n",
    "    c63=(i>j)\n",
    "for i,j in zip(f,d):\n",
    "    c64=(i>j)\n",
    "for i,j in zip(f,e):\n",
    "    c65=(i>j)\n",
    "\n",
    "print(c21*1)"
   ]
  },
  {
   "cell_type": "code",
   "execution_count": 10,
   "id": "474748cb",
   "metadata": {},
   "outputs": [],
   "source": [
    "d1={1:0.076,2:0.043,3:0.113,4:0.075,5:0.025,6:0.205,7:0.064,8:0.072,9:0.208,10:0.056,11:0.035,12:0.035}"
   ]
  },
  {
   "cell_type": "code",
   "execution_count": 11,
   "id": "0590df03",
   "metadata": {},
   "outputs": [],
   "source": [
    "A1=[[0,d1[1]+d1[5]+d1[6]+d1[11]+d1[12],d1[2]+d1[4]+d1[5]+d1[6]+d1[11],d1[2]+d1[3]+d1[4]+d1[5]+d1[6]+d1[7]+d1[10]+d1[11],d1[4]+d1[7]+d1[11],d1[3]+d1[4]+d1[6]+d1[7]+d1[8]+d1[9]+d1[10]+d1[11]]]\n",
    "A2=[[d1[3]+d1[4]+d1[7]+d1[8]+d1[9]+d1[10],0,d1[2]+d1[4]+d1[8]+d1[9]+d1[10]+d1[11],d1[2]+d1[3]+d1[4]+d1[7]+d1[9]+d1[10]+d1[11],d1[4]+d1[7]+d1[9]+d1[10]+d1[11],d1[3]+d1[4]+d1[7]+d1[8]+d1[9]+d1[10]+d1[11]]]\n",
    "A3=[[d1[1]+d1[3]+d1[7]+d1[8]+d1[10]+d1[12],d1[1]+d1[3]+d1[5]+d1[6]+d1[7]+d1[12],0,d1[2]+d1[3]+d1[4]+d1[6]+d1[7]+d1[10]+d1[12],d1[1]+d1[4]+d1[7]+d1[11],+d1[3]+d1[4]+d1[6]+d1[7]+d1[8]+d1[9]+d1[10]+d1[12]]]\n",
    "A4=[[d1[1]+d1[8]+d1[12],d1[1]+d1[5]+d1[6]+d1[8]+d1[12],d1[1]+d1[5]+d1[8]+d1[11],0,d1[1]+d1[4]+d1[7]+d1[8]+d1[11],d1[4]+d1[6]+d1[7]+d1[8]+d1[9]+d1[11]+d1[12]]]\n",
    "A5=[[d1[1]+d1[3]+d1[5]+d1[8]+d1[10]+d1[12],d1[1]+d1[3]+d1[5]+d1[6]+d1[8]+d1[12],d1[2]+d1[3]+d1[5]+d1[6]+d1[8]+d1[10]+d1[12],d1[2]+d1[3]+d1[5]+d1[6]+d1[10]+d1[12],0,d1[3]+d1[4]+d1[5]+d1[6]+d1[7]+d1[8]+d1[9]+d1[10]+d1[12]]]\n",
    "A6=[[d1[1]+d1[5]+d1[12],d1[1]+d1[5]+d1[12],d1[1]+d1[2]+d1[5],d1[1]+d1[2]+d1[3]+d1[5]+d1[10],d1[1]+d1[11],0]]"
   ]
  },
  {
   "cell_type": "code",
   "execution_count": 12,
   "id": "be8b85a1",
   "metadata": {},
   "outputs": [
    {
     "name": "stdout",
     "output_type": "stream",
     "text": [
      "[[0.    0.376 0.383 0.616 0.174 0.828]\n",
      " [0.588 0.    0.489 0.594 0.438 0.623]\n",
      " [0.416 0.518 0.    0.591 0.25  0.828]\n",
      " [0.183 0.413 0.208 0.    0.322 0.694]\n",
      " [0.377 0.526 0.549 0.477 0.    0.853]\n",
      " [0.136 0.136 0.144 0.313 0.111 0.   ]]\n"
     ]
    }
   ],
   "source": [
    "new=np.concatenate((A1,A2,A3,A4,A5,A6),axis=0)\n",
    "concordance_interval_matrix=new.reshape(6,6)\n",
    "concordance_interval_matrix_copy=concordance_interval_matrix.copy()\n",
    "print(concordance_interval_matrix)"
   ]
  },
  {
   "cell_type": "code",
   "execution_count": 13,
   "id": "10c5f5d3",
   "metadata": {},
   "outputs": [
    {
     "name": "stdout",
     "output_type": "stream",
     "text": [
      "[1.7   1.969 1.773 2.591 1.295 3.826]\n",
      "0.43846666666666667\n"
     ]
    }
   ],
   "source": [
    "ab=np.sum(concordance_interval_matrix,axis=0)\n",
    "\n",
    "c_bar=sum(ab)/(30)\n",
    "print(ab)\n",
    "print(c_bar)"
   ]
  },
  {
   "cell_type": "code",
   "execution_count": 14,
   "id": "3830c453",
   "metadata": {},
   "outputs": [
    {
     "name": "stdout",
     "output_type": "stream",
     "text": [
      "[[0. 0. 0. 1. 0. 1.]\n",
      " [1. 0. 1. 1. 0. 1.]\n",
      " [0. 1. 0. 1. 0. 1.]\n",
      " [0. 0. 0. 0. 0. 1.]\n",
      " [0. 1. 1. 1. 0. 1.]\n",
      " [0. 0. 0. 0. 0. 0.]]\n"
     ]
    }
   ],
   "source": [
    " for i in range(len(concordance_interval_matrix)):\n",
    "        for j in range(len(concordance_interval_matrix)):\n",
    "            if(concordance_interval_matrix[i][j]>=c_bar):\n",
    "                concordance_interval_matrix[i][j]=1\n",
    "            else:\n",
    "                concordance_interval_matrix[i][j]=0\n",
    "print(concordance_interval_matrix)            "
   ]
  },
  {
   "cell_type": "code",
   "execution_count": 15,
   "id": "89dd17cd",
   "metadata": {},
   "outputs": [
    {
     "name": "stdout",
     "output_type": "stream",
     "text": [
      "[[0.02043804 0.01756623 0.02810681 0.03291698 0.01036333 0.11447279\n",
      "  0.02616323 0.02358624 0.08338551 0.02049002 0.02173221 0.0096188 ]\n",
      " [0.01557184 0.01756623 0.05396507 0.04800393 0.00863611 0.05723639\n",
      "  0.02877956 0.03144832 0.11118068 0.03304841 0.01629916 0.00511315]\n",
      " [0.02530424 0.01754021 0.0565509  0.03085967 0.00978759 0.07154549\n",
      "  0.03191915 0.02751728 0.08338551 0.02098574 0.01086611 0.01923759]\n",
      " [0.03892959 0.01752286 0.02417186 0.02935098 0.01007546 0.06439094\n",
      "  0.02563997 0.03537936 0.08338551 0.01850711 0.01358263 0.01037818]\n",
      " [0.024331   0.01756623 0.06745634 0.02057311 0.01122694 0.11447279\n",
      "  0.02485507 0.03443591 0.08338551 0.02131623 0.00814958 0.02303449]\n",
      " [0.04866199 0.01756623 0.02709496 0.00020573 0.01093907 0.05723639\n",
      "  0.0170061  0.02107037 0.05559034 0.01966381 0.01086611 0.00989724]]\n",
      "[0.02043804 0.01756623 0.02810681 0.03291698 0.01036333 0.11447279\n",
      " 0.02616323 0.02358624 0.08338551 0.02049002 0.02173221 0.0096188 ] [0.01557184 0.01756623 0.05396507 0.04800393 0.00863611 0.05723639\n",
      " 0.02877956 0.03144832 0.11118068 0.03304841 0.01629916 0.00511315]\n"
     ]
    }
   ],
   "source": [
    "print(weighted_normalized_matrix)\n",
    "g,h,i,j,k,l=weighted_normalized_matrix    #before --> e,f,g,h=weighted_normalized_matrix\n",
    "print(g,h)"
   ]
  },
  {
   "cell_type": "code",
   "execution_count": 16,
   "id": "a3852614",
   "metadata": {},
   "outputs": [],
   "source": [
    "d1=abs(g-h)\n",
    "d12=max(d1[1],d1[2],d1[3],d1[6],d1[7],d1[8],d1[9])/max(d1)\n",
    "\n",
    "d2=abs(g-i)\n",
    "d13=max(d2[0],d2[2],d2[6],d2[7],d2[8],d2[9],d2[11])/max(d2)\n",
    "\n",
    "d3=abs(g-j)\n",
    "d14=max(d3[0],d3[7],d3[8],d3[11])/max(d3)\n",
    "\n",
    "d4=abs(g-k)\n",
    "d15=max(d4[0],d4[1],d4[2],d4[4],d4[5],d4[7],d4[8],d4[9],d4[11])/max(d4)\n",
    "\n",
    "d5=abs(g-l)\n",
    "d16=max(d5[0],d5[1],d5[4],d5[11])/max(d5)\n",
    "\n",
    "d6=abs(h-g)\n",
    "d21=max(d6[0],d6[1],d6[4],d6[5],d6[10],d6[11])/max(d6)\n",
    "\n",
    "d7=abs(h-i)\n",
    "d23=max(d7[0],d7[2],d7[4],d7[5],d7[6],d7[11])/max(d7)\n",
    "\n",
    "d8=abs(h-j)\n",
    "d24=max(d8[0],d8[4],d8[5],d8[7],d8[11])/max(d8)\n",
    "\n",
    "d9=abs(h-k)\n",
    "d25=max(d9[0],d9[1],d9[2],d9[4],d9[5],d9[7],d9[11])/max(d9)\n",
    "\n",
    "d_10=abs(h-l)\n",
    "d26=max(d_10[0],d_10[1],d_10[4],d_10[5],d_10[11])/max(d_10)\n",
    "\n",
    "d_11=abs(i-g)\n",
    "d31=max(d_11[1],d_11[3],d_11[4],d_11[5],d_11[8],d_11[10])/max(d_11)\n",
    "\n",
    "d_12=abs(i-h)\n",
    "d32=max(d_12[1],d_12[3],d_12[7],d_12[8],d_12[9],d_12[10])/max(d_12)\n",
    "\n",
    "d_13=abs(i-j)\n",
    "d34=max(d_13[4],d_13[7],d_13[8],d_13[10])/max(d_13)\n",
    "\n",
    "d_14=abs(i-k)\n",
    "d35=max(d_14[1],d_14[2],d_14[4],d_14[5],d_14[7],d_14[8],d_14[9],d_14[11])/max(d_14)\n",
    "\n",
    "d_15=abs(i-l)\n",
    "d36=max(d_15[0],d_15[1],d_15[4],d_15[10])/max(d_15)\n",
    "\n",
    "d_16=abs(j-g)\n",
    "d41=max(d_16[1],d_16[2],d_16[3],d_16[4],d_16[5],d_16[6],d_16[8],d_16[9],d_16[10])/max(d_16)\n",
    "\n",
    "d_17=abs(j-h)\n",
    "d42=max(d_17[1],d_17[2],d_17[3],d_17[6],d_17[8],d_17[9],d_17[10])/max(d_17)\n",
    "\n",
    "d_18=abs(j-i)\n",
    "d43=max(d_18[1],d_18[2],d_18[3],d_18[5],d_18[6],d_18[8],d_18[9],d_18[11])/max(d_18)\n",
    "\n",
    "d_19=abs(j-k)\n",
    "d45=max(d_19[1],d_19[2],d_19[4],d_19[5],d_19[8],d_19[9],d_19[11])/max(d_19)\n",
    "\n",
    "d_20=abs(j-l)\n",
    "d46=max(d_20[0],d_20[1],d_20[2],d_20[4],d_20[9])/max(d_20)\n",
    "\n",
    "d_21=abs(k-g)\n",
    "d51=max(d_21[1],d_21[3],d_21[5],d_21[6],d_21[8],d_21[10])/max(d_21)\n",
    "\n",
    "d_22=abs(k-h)\n",
    "d52=max(d_22[1],d_22[3],d_22[6],d_22[8],d_22[9],d_22[10])/max(d_22)\n",
    "\n",
    "d_23=abs(k-i)\n",
    "d53=max(d_23[0],d_23[3],d_23[6],d_23[8],d_23[10])/max(d_23)\n",
    "\n",
    "d_24=abs(k-j)\n",
    "d54=max(d_24[0],d_24[3],d_24[6],d_24[7],d_24[8],d_24[10])/max(d_24)\n",
    "\n",
    "d_25=abs(k-l)\n",
    "d56=max(d_25[0],d_25[1],d_25[10])/max(d_25)\n",
    "\n",
    "d_26=abs(l-g)\n",
    "d61=max(d_26[1],d_26[2],d_26[3],d_26[5],d_26[6],d_26[7],d_26[8],d_26[9],d_26[10])/max(d_26)\n",
    "\n",
    "d_27=abs(l-h)\n",
    "d62=max(d_27[1],d_27[2],d_27[3],d_27[5],d_27[6],d_27[7],d_27[8],d_27[9],d_27[10])/max(d_27)\n",
    "\n",
    "d_28=abs(l-i)\n",
    "d63=max(d_28[2],d_28[3],d_28[5],d_28[6],d_28[7],d_28[8],d_28[9],d_28[10],d_28[11])/max(d_28)\n",
    "\n",
    "d_29=abs(l-j)\n",
    "d64=max(d_29[3],d_29[5],d_29[6],d_29[7],d_29[8],d_29[10],d_29[11])/max(d_29)\n",
    "\n",
    "d_30=abs(l-k)\n",
    "d65=max(d_30[1],d_30[2],d_30[3],d_30[4],d_30[5],d_30[6],d_30[7],d_30[8],d_30[9],d_30[11])/max(d_30)\n",
    "\n"
   ]
  },
  {
   "cell_type": "code",
   "execution_count": 17,
   "id": "e7dca33e",
   "metadata": {},
   "outputs": [
    {
     "name": "stdout",
     "output_type": "stream",
     "text": [
      "[[0.         0.48562054 0.66261082 0.36922675 1.         0.49311204]\n",
      " [1.         0.         0.51480524 0.78399576 1.         0.59525011]\n",
      " [1.         1.         0.         0.24281384 1.         0.76198217]\n",
      " [1.         1.         1.         0.         1.         0.33392748]\n",
      " [0.34517905 0.48562054 0.23962742 0.2914948  0.         0.42509659]\n",
      " [1.         1.         1.         1.         1.         0.        ]]\n"
     ]
    }
   ],
   "source": [
    "discordance_interval_matrix=np.array((0,d12,d13,d14,d15,d16,d21,0,d23,d24,d25,d26,d31,d32,0,d34,d35,d36,d41,d42,d43,0,d45,d46,d51,d52,d53,d54,0,d56,d61,d62,d63,d64,d65,0))\n",
    "discordance_interval_matrix=discordance_interval_matrix.reshape(6,6)\n",
    "discordance_interval_matrix_copy=discordance_interval_matrix.copy()\n",
    "\n",
    "print(discordance_interval_matrix)"
   ]
  },
  {
   "cell_type": "code",
   "execution_count": 18,
   "id": "ecc04e68",
   "metadata": {},
   "outputs": [
    {
     "name": "stdout",
     "output_type": "stream",
     "text": [
      "[4.34517905 3.97124109 3.41704348 2.68753115 5.         2.6093684 ]\n",
      "0.734345439042364\n"
     ]
    }
   ],
   "source": [
    "bc=np.sum(discordance_interval_matrix,axis=0)\n",
    "\n",
    "c_dash=sum(bc)/(30)\n",
    "print(bc)\n",
    "print(c_dash)"
   ]
  },
  {
   "cell_type": "code",
   "execution_count": 19,
   "id": "76020752",
   "metadata": {},
   "outputs": [
    {
     "name": "stdout",
     "output_type": "stream",
     "text": [
      "[[1. 1. 1. 1. 0. 1.]\n",
      " [0. 1. 1. 0. 0. 1.]\n",
      " [0. 0. 1. 1. 0. 0.]\n",
      " [0. 0. 0. 1. 0. 1.]\n",
      " [1. 1. 1. 1. 1. 1.]\n",
      " [0. 0. 0. 0. 0. 1.]]\n"
     ]
    }
   ],
   "source": [
    "for i in range(len(discordance_interval_matrix)):\n",
    "        for j in range(len(discordance_interval_matrix)):\n",
    "            if(discordance_interval_matrix[i][j]>=c_dash):\n",
    "                discordance_interval_matrix[i][j]=0\n",
    "            else:\n",
    "                discordance_interval_matrix[i][j]=1\n",
    "print(discordance_interval_matrix)            "
   ]
  },
  {
   "cell_type": "code",
   "execution_count": 20,
   "id": "08408380",
   "metadata": {},
   "outputs": [
    {
     "name": "stdout",
     "output_type": "stream",
     "text": [
      "[[0.    0.376 0.383 0.616 0.174 0.828]\n",
      " [0.588 0.    0.489 0.594 0.438 0.623]\n",
      " [0.416 0.518 0.    0.591 0.25  0.828]\n",
      " [0.183 0.413 0.208 0.    0.322 0.694]\n",
      " [0.377 0.526 0.549 0.477 0.    0.853]\n",
      " [0.136 0.136 0.144 0.313 0.111 0.   ]]\n",
      "[[0.         0.48562054 0.66261082 0.36922675 1.         0.49311204]\n",
      " [1.         0.         0.51480524 0.78399576 1.         0.59525011]\n",
      " [1.         1.         0.         0.24281384 1.         0.76198217]\n",
      " [1.         1.         1.         0.         1.         0.33392748]\n",
      " [0.34517905 0.48562054 0.23962742 0.2914948  0.         0.42509659]\n",
      " [1.         1.         1.         1.         1.         0.        ]]\n"
     ]
    }
   ],
   "source": [
    "print(concordance_interval_matrix_copy)\n",
    "print(discordance_interval_matrix_copy)"
   ]
  },
  {
   "cell_type": "code",
   "execution_count": 21,
   "id": "c91f11ea",
   "metadata": {},
   "outputs": [
    {
     "name": "stdout",
     "output_type": "stream",
     "text": [
      "Net Superior Values are - : [ 0.677  0.763  0.83  -0.771  1.487 -2.986]\n",
      "Net Inferior Values are - : [-1.33460888 -0.07718999  0.58775253  1.64639633 -3.21298159  2.3906316 ]\n"
     ]
    }
   ],
   "source": [
    "col_sum_con=np.sum(concordance_interval_matrix_copy,axis=0)\n",
    "row_sum_con=np.sum(concordance_interval_matrix_copy,axis=1)\n",
    "net_superior_values=row_sum_con-col_sum_con\n",
    "\n",
    "col_sum_disc=np.sum(discordance_interval_matrix_copy,axis=0)\n",
    "row_sum_disc=np.sum(discordance_interval_matrix_copy,axis=1)\n",
    "net_inferior_values=row_sum_disc-col_sum_disc\n",
    "\n",
    "print(\"Net Superior Values are - : \",end=\"\")\n",
    "print(net_superior_values)\n",
    "print(\"Net Inferior Values are - : \",end=\"\")\n",
    "print(net_inferior_values)\n"
   ]
  },
  {
   "cell_type": "code",
   "execution_count": 232,
   "id": "6f362bb7",
   "metadata": {},
   "outputs": [],
   "source": [
    "materials=[\"ABS - acrylonitrile-butadiene-styrene\",\"PLA - polyactic acid\",\"PC - poly carbonate\",\"ASA - acrylonitrile styrene acrylate\", \"NYLON\", \"TPU ELASTOMER\"]"
   ]
  },
  {
   "cell_type": "code",
   "execution_count": 233,
   "id": "5d398d76",
   "metadata": {},
   "outputs": [
    {
     "name": "stdout",
     "output_type": "stream",
     "text": [
      "The Most suitable material for manufacturing of spur gear is NYLON\n",
      "The Most suitable material for manufacturing of spur gear is NYLON\n"
     ]
    }
   ],
   "source": [
    "print(\"The Most suitable material for manufacturing of spur gear is {}\".format(materials[np.argmax(net_superior_values)]))\n",
    "print(\"The Most suitable material for manufacturing of spur gear is {}\".format(materials[np.argmin(net_inferior_values)]))"
   ]
  },
  {
   "cell_type": "code",
   "execution_count": null,
   "id": "c918f979",
   "metadata": {},
   "outputs": [],
   "source": []
  }
 ],
 "metadata": {
  "kernelspec": {
   "display_name": "Python 3 (ipykernel)",
   "language": "python",
   "name": "python3"
  },
  "language_info": {
   "codemirror_mode": {
    "name": "ipython",
    "version": 3
   },
   "file_extension": ".py",
   "mimetype": "text/x-python",
   "name": "python",
   "nbconvert_exporter": "python",
   "pygments_lexer": "ipython3",
   "version": "3.9.7"
  }
 },
 "nbformat": 4,
 "nbformat_minor": 5
}
