{
 "cells": [
  {
   "cell_type": "code",
   "execution_count": 8,
   "id": "a0dc9696",
   "metadata": {},
   "outputs": [],
   "source": [
    "import numpy"
   ]
  },
  {
   "cell_type": "code",
   "execution_count": 7,
   "id": "dca7044e",
   "metadata": {},
   "outputs": [],
   "source": [
    "triangular_membership_function = {1:[1,1,1] , 2:[1,2,3] , 3:[2,3,4] , 4:[3,4,5] , 5:[4,5,6] , 6: [5,6,7] , 7:[6,7,8],8:[7,8,9],9:[9,9,9]}\n"
   ]
  },
  {
   "cell_type": "code",
   "execution_count": 8,
   "id": "46417643",
   "metadata": {},
   "outputs": [
    {
     "data": {
      "text/plain": [
       "{1: [1, 1, 1],\n",
       " 2: [1, 2, 3],\n",
       " 3: [2, 3, 4],\n",
       " 4: [3, 4, 5],\n",
       " 5: [4, 5, 6],\n",
       " 6: [5, 6, 7],\n",
       " 7: [6, 7, 8],\n",
       " 8: [7, 8, 9],\n",
       " 9: [9, 9, 9]}"
      ]
     },
     "execution_count": 8,
     "metadata": {},
     "output_type": "execute_result"
    }
   ],
   "source": [
    "triangular_membership_function"
   ]
  },
  {
   "cell_type": "code",
   "execution_count": 11,
   "id": "7e666d72",
   "metadata": {},
   "outputs": [
    {
     "name": "stdout",
     "output_type": "stream",
     "text": [
      "[0.64, 0.36]\n"
     ]
    }
   ],
   "source": [
    "def fuzzy_AHP(AHP_matrix):\n",
    "    #print(triangular_membership_function)\n",
    "    test_data = AHP_matrix\n",
    "    n = len(test_data)\n",
    "   \n",
    "    fuzzified_test_data = numpy.zeros((n,n,3))\n",
    "    \n",
    "    for x in range(n):\n",
    "        for y in range(n):\n",
    "            if(test_data[x][y] >= 1):\n",
    "                fuzzified_test_data[x][y] = triangular_membership_function[test_data[x][y]]\n",
    "            else:\n",
    "                index = round(1/test_data[x][y])\n",
    "                #print(index)\n",
    "                temp = triangular_membership_function[index]\n",
    "                for i in range(3):\n",
    "                    fuzzified_test_data[x][y][i] = 1.0/temp[2-i]\n",
    "\n",
    "    \n",
    "    fuzzy_geometric_mean = [[1 for x in range(3)] for y in range(n)]\n",
    "    \n",
    "    \n",
    "    for i in range(n):\n",
    "        for j in range(3):\n",
    "            for k in range(n):\n",
    "                fuzzy_geometric_mean[i][j] *= fuzzified_test_data[i][k][j]\n",
    "            fuzzy_geometric_mean[i][j] = fuzzy_geometric_mean[i][j]**(1/float(n))\n",
    "   \n",
    "    \n",
    "    sum_fuzzy_gm = [0 for x in range(3)]\n",
    "    inv_sum_fuzzy_gm = [0 for x in range(3)]\n",
    "    \n",
    "    \n",
    "    for i in range(3):\n",
    "        for j in range(n):\n",
    "            sum_fuzzy_gm[i] += fuzzy_geometric_mean[j][i]\n",
    "\n",
    "    for i in range(3):\n",
    "        inv_sum_fuzzy_gm[i] = (1.0/sum_fuzzy_gm[2-i])\n",
    "    \n",
    "\n",
    "    fuzzy_weights = [[1 for x in range(3)] for y in range(n)]\n",
    "    \n",
    "    for i in range(n):\n",
    "        for j in range(3):\n",
    "            fuzzy_weights[i][j] = fuzzy_geometric_mean[i][j]*inv_sum_fuzzy_gm[j]\n",
    "    \n",
    "    \n",
    "    weights = [0 for i in range(n)]\n",
    "    normalized_weights = [0 for i in range(n)]\n",
    "    sum_weights = 0\n",
    "    \n",
    "    for i in range(n):\n",
    "        for j in range(3):\n",
    "            weights[i] += fuzzy_weights[i][j]\n",
    "        weights[i] /= 3\n",
    "        sum_weights += weights[i]\n",
    "    \n",
    "\n",
    "    for i in range(n):\n",
    "        normalized_weights[i] = (1.0*weights[i])/(1.0*sum_weights)\n",
    "    \n",
    "    \n",
    "\n",
    "    return normalized_weights\n",
    "\n",
    "if __name__==\"__main__\":\n",
    "    main()"
   ]
  },
  {
   "cell_type": "code",
   "execution_count": 12,
   "id": "4f4b9021",
   "metadata": {},
   "outputs": [
    {
     "name": "stdout",
     "output_type": "stream",
     "text": [
      "[0.64, 0.36]\n"
     ]
    }
   ],
   "source": [
    "AHP_features_matrix = [[1,2],[0.5,1]]\n",
    "\n",
    "def main():\n",
    "    weight_ratio=dict()\n",
    "    weights = fuzzy_AHP(AHP_features_matrix)\n",
    "    RoundedWeights_1_2=[round(ws,2) for ws in weights]\n",
    "    print(RoundedWeights_1_2)\n",
    "\n",
    "if __name__==\"__main__\":\n",
    "    main()"
   ]
  },
  {
   "cell_type": "code",
   "execution_count": null,
   "id": "3fcb31fd",
   "metadata": {},
   "outputs": [],
   "source": []
  }
 ],
 "metadata": {
  "kernelspec": {
   "display_name": "Python 3 (ipykernel)",
   "language": "python",
   "name": "python3"
  },
  "language_info": {
   "codemirror_mode": {
    "name": "ipython",
    "version": 3
   },
   "file_extension": ".py",
   "mimetype": "text/x-python",
   "name": "python",
   "nbconvert_exporter": "python",
   "pygments_lexer": "ipython3",
   "version": "3.9.7"
  }
 },
 "nbformat": 4,
 "nbformat_minor": 5
}
